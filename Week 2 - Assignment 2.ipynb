{
 "cells": [
  {
   "cell_type": "markdown",
   "metadata": {},
   "source": [
    "# IS 362: Wk 2 Assignment\n",
    "## List Comprehensions\n",
    "\n",
    "When transforming a list into another list by choosing only certain elements, or by transforming elements (or both), the best way of doing this is list comprehensions:"
   ]
  },
  {
   "cell_type": "code",
   "execution_count": 11,
   "metadata": {},
   "outputs": [
    {
     "name": "stdout",
     "output_type": "stream",
     "text": [
      "even numbers: [0, 2, 4]\n",
      "squares: [0, 1, 4, 9, 16]\n",
      "even squares: [0, 4, 16]\n"
     ]
    }
   ],
   "source": [
    "even_numbers = [x for x in range(5) if x % 2 == 0]  \n",
    "squares      = [x * x for x in range(5)]            \n",
    "even_squares = [x * x for x in even_numbers]\n",
    "\n",
    "print ('even numbers: '+ str(even_numbers))\n",
    "print ('squares: ' + str(squares))\n",
    "print ('even squares: ' + str(even_squares))"
   ]
  },
  {
   "cell_type": "markdown",
   "metadata": {},
   "source": [
    "## zip function\n",
    "\n",
    "zip transforms multiple lists into a single list of tuples of corresponding elements:"
   ]
  },
  {
   "cell_type": "code",
   "execution_count": 20,
   "metadata": {},
   "outputs": [
    {
     "name": "stdout",
     "output_type": "stream",
     "text": [
      "list1: ['a', 'b', 'c']\n",
      "list2: [1, 2, 3]\n",
      "list zipped: [('a', 1), ('b', 2), ('c', 3)]\n"
     ]
    }
   ],
   "source": [
    "list1 = ['a', 'b', 'c']\n",
    "list2 = [1, 2, 3]\n",
    "list_zipped = zip(list1, list2)\n",
    "\n",
    "print('list1: ' + str(list1))\n",
    "print('list2: ' + str(list2))\n",
    "print ('list zipped: ' + str(list(list_zipped)))"
   ]
  }
 ],
 "metadata": {
  "kernelspec": {
   "display_name": "Python 3",
   "language": "python",
   "name": "python3"
  },
  "language_info": {
   "codemirror_mode": {
    "name": "ipython",
    "version": 3
   },
   "file_extension": ".py",
   "mimetype": "text/x-python",
   "name": "python",
   "nbconvert_exporter": "python",
   "pygments_lexer": "ipython3",
   "version": "3.7.4"
  }
 },
 "nbformat": 4,
 "nbformat_minor": 2
}
